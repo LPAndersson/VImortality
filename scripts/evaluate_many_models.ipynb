{
 "cells": [
  {
   "cell_type": "code",
   "execution_count": null,
   "metadata": {},
   "outputs": [],
   "source": [
    "from multiprocessing import Pool, Lock\n",
    "import os\n",
    "\n",
    "from datetime import datetime\n",
    "\n",
    "from mortalityForecast import mortalityForecast as mf\n",
    "from mortalityForecast import mortality_data_loader as data_loader\n",
    "from mortalityForecast import utils\n",
    "\n",
    "import matplotlib.pyplot as plt\n",
    "import numpy as np\n",
    "import pandas as pd\n",
    "from itertools import product\n",
    "from itertools import cycle\n",
    "import psutil "
   ]
  },
  {
   "cell_type": "code",
   "execution_count": null,
   "metadata": {},
   "outputs": [],
   "source": [
    "first_year = 1951\n",
    "train_length = 60\n",
    "forecast_length = 10\n",
    "last_year = 1999\n",
    "\n",
    "param_tuple = tuple()\n",
    "\n",
    "start_years = range(first_year, last_year - train_length - forecast_length + 2)\n",
    "countries = [data_loader.SWEDEN]\n",
    "nn_layers = [1]\n",
    "latent_dims = [1,2,3,4,5,6,7,8,9]"
   ]
  },
  {
   "cell_type": "code",
   "execution_count": null,
   "metadata": {},
   "outputs": [],
   "source": [
    "for start_year, country, nn_layer, latent_dim in product(start_years, countries, nn_layers, latent_dims):\n",
    "    param_tuple = param_tuple + ({\n",
    "    'country' : country,\n",
    "    'first_year_train' : start_year,\n",
    "    'last_year_train' : start_year + train_length - 1,\n",
    "    'first_year_test' : start_year + train_length,\n",
    "    'last_year_test' : start_year + train_length + forecast_length-1,\n",
    "    'sex' : \"Male\", # or Female, Both\n",
    "    'max_age' : 100,\n",
    "    'nn_layers' : nn_layer,\n",
    "    'latent_dim' : latent_dim},)\n",
    "\n",
    "for idx, param in enumerate(param_tuple):\n",
    "    param['id'] = idx +1    \n",
    "\n",
    "l = Lock()"
   ]
  },
  {
   "cell_type": "code",
   "execution_count": null,
   "metadata": {},
   "outputs": [],
   "source": []
  },
  {
   "cell_type": "code",
   "execution_count": null,
   "metadata": {},
   "outputs": [],
   "source": [
    "def evaluate_model_and_save(param):\n",
    "\n",
    "    \n",
    "\n",
    "    log_score = model.evaluate(exposure_test, deaths_test, mc_samples = 10000)\n",
    "\n",
    "    data = list(\n",
    "    zip(\n",
    "        cycle(['sweden']),\n",
    "        cycle([param['first_year_train']]),\n",
    "        cycle([param['last_year_train']]),\n",
    "        cycle([param['sex']]),\n",
    "        cycle([param['max_age']]),\n",
    "        cycle([param['nn_layers']]),\n",
    "        cycle([param['latent_dim']]),\n",
    "        range(1,len(log_score)+1),\n",
    "        log_score,\n",
    "        cycle([datetime.now().strftime(\"%d/%m/%Y\")]),\n",
    "        cycle([datetime.now().strftime(\"%H:%M:%S\")])\n",
    "        )\n",
    "    )\n",
    "    \n",
    "    df = pd.DataFrame(data,\n",
    "                  columns = ['Country', 'first_year_train', 'last_year_train', 'Sex','max_age', 'nn_layers', 'latent_dim', 'Forecast horizon', 'Log score', 'Date', 'Time'])\n",
    "\n",
    "\n",
    "    out_path = 'results-230126' + '.csv'\n",
    "    \n",
    "    l.acquire()\n",
    "    try:\n",
    "        df.to_csv(out_path, mode='a', header=not os.path.exists(out_path), index = False)\n",
    "        print(param['id'])\n",
    "    finally:\n",
    "        l.release() \"\"\""
   ]
  }
 ],
 "metadata": {
  "kernelspec": {
   "display_name": "Python 3",
   "language": "python",
   "name": "python3"
  },
  "language_info": {
   "name": "python",
   "version": "3.9.6 (default, Jul 28 2021, 14:31:06) \n[Clang 12.0.0 ]"
  },
  "orig_nbformat": 4,
  "vscode": {
   "interpreter": {
    "hash": "44789941c6685c3572a1e4111ebb62fadc5637fac4ea782212fa973603f58f95"
   }
  }
 },
 "nbformat": 4,
 "nbformat_minor": 2
}
